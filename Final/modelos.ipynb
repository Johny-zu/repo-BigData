{
 "cells": [
  {
   "cell_type": "markdown",
   "id": "95eae84cc5a377aa",
   "metadata": {},
   "source": [
    "# Modelos de datos usando informacion financiera"
   ]
  },
  {
   "cell_type": "code",
   "execution_count": null,
   "id": "initial_id",
   "metadata": {
    "collapsed": true,
    "jupyter": {
     "is_executing": true
    }
   },
   "outputs": [],
   "source": [
    "# Primero importamos las librerias\n",
    "import pandas as pd\n",
    "import numpy as np\n",
    "import seaborn as sns\n",
    "import matplotlib.pyplot as plt\n",
    "\n",
    "from sklearn.preprocessing import StandardScaler\n",
    "from sklearn.decomposition import PCA\n",
    "from sklearn.manifold import TSNE\n",
    "from sklearn.model_selection import train_test_split\n",
    "from sklearn.linear_model import LogisticRegression, LinearRegression\n",
    "from sklearn.neighbors import KNeighborsClassifier\n",
    "from sklearn.cluster import KMeans, DBSCAN\n",
    "from sklearn.mixture import GaussianMixture\n",
    "from sklearn.metrics import silhouette_score\n",
    "from sklearn.discriminant_analysis import LinearDiscriminantAnalysis\n",
    "# from sklearn_extra.cluster import KMedoids"
   ]
  },
  {
   "cell_type": "code",
   "execution_count": null,
   "id": "10ac1c33147f8b6a",
   "metadata": {},
   "outputs": [],
   "source": [
    "# Segundo paso: Vamos a leer el dataset\n",
    "df = pd.read_csv('Credit_Risk_BenchmarkDataset.csv')\n",
    "df.head()"
   ]
  },
  {
   "cell_type": "code",
   "execution_count": null,
   "id": "95cd1ed58a61c502",
   "metadata": {},
   "outputs": [],
   "source": [
    "# Información general del dataset\n",
    "print(\"Info del dataset:\")\n",
    "df.info()\n",
    "\n",
    "# Cantidad de nulos\n",
    "print(\"\\nNulos por columna:\")\n",
    "print(df.isnull().sum())\n",
    "\n",
    "# Duplicados\n",
    "print(\"\\nRegistros duplicados:\", df.duplicated().sum())\n",
    "\n",
    "# Valores únicos\n",
    "print(\"\\nValores únicos por columna:\")\n",
    "print(df.nunique())\n",
    "\n",
    "# Estadísticas básicas\n",
    "df.describe()\n"
   ]
  },
  {
   "cell_type": "code",
   "execution_count": null,
   "id": "fbbf3074a1151049",
   "metadata": {},
   "outputs": [],
   "source": [
    "# Histograma para todas las columnas numéricas\n",
    "df.hist(bins=30, figsize=(15, 10), edgecolor='black')\n",
    "plt.suptitle(\"Distribuciones de Variables Numéricas\", fontsize=16)\n",
    "plt.tight_layout()\n",
    "plt.show()"
   ]
  },
  {
   "cell_type": "code",
   "execution_count": null,
   "id": "1f18c069dbec4a8",
   "metadata": {},
   "outputs": [],
   "source": [
    "# 4.2 Gráfico de cajas (boxplots)\n",
    "plt.figure(figsize=(15, 8))\n",
    "sns.boxplot(data=df)\n",
    "plt.title(\"Gráfico de Caja - Valores Atípicos\")\n",
    "plt.xticks(rotation=45)\n",
    "plt.show()\n"
   ]
  },
  {
   "cell_type": "code",
   "execution_count": null,
   "id": "84d2ce338a3172d4",
   "metadata": {},
   "outputs": [],
   "source": [
    "# 4.3 Gráfico de barras cruzado: dependents vs ingreso\n",
    "df['dependents'] = df['dependents'].fillna(0).astype(int)\n",
    "\n",
    "plt.figure(figsize=(10, 6))\n",
    "sns.barplot(data=df, x='dependents', y='monthly_inc')\n",
    "plt.title(\"Ingreso mensual promedio según número de dependientes\")\n",
    "plt.show()\n"
   ]
  },
  {
   "cell_type": "code",
   "execution_count": null,
   "id": "7e854a1d25a30ea8",
   "metadata": {},
   "outputs": [],
   "source": [
    "# Paso 5: Heatmap de correlaciones\n",
    "plt.figure(figsize=(10, 8))\n",
    "sns.heatmap(df.corr(numeric_only=True), annot=True, cmap='coolwarm')\n",
    "plt.title(\"Mapa de Calor de Correlaciones\")\n",
    "plt.show()\n"
   ]
  },
  {
   "cell_type": "code",
   "execution_count": null,
   "id": "6717cdc972de730c",
   "metadata": {},
   "outputs": [],
   "source": [
    "# Modelo de regresion simple\n",
    "# Regresión Lineal Simple: predecir ingresos mensuales (monthly_inc) en función de la edad\n",
    "# Usamos solo una variable predictora (por ejemplo: 'age')\n",
    "X_simple = df[['age']]\n",
    "y_simple = df['monthly_inc']\n",
    "\n",
    "lin_reg_simple = LinearRegression()\n",
    "lin_reg_simple.fit(X_simple, y_simple)\n",
    "\n",
    "print(\"Coeficiente:\", lin_reg_simple.coef_)\n",
    "print(\"Intercepto:\", lin_reg_simple.intercept_)\n",
    "print(\"Score (R^2):\", lin_reg_simple.score(X_simple, y_simple))\n"
   ]
  },
  {
   "cell_type": "code",
   "execution_count": null,
   "id": "1cb55e1a3de95423",
   "metadata": {},
   "outputs": [],
   "source": [
    "# Regresión Lineal Múltiple: predecir monthly_inc usando múltiples variables\n",
    "X_multi = df[['age', 'debt_ratio', 'rev_util', 'dependents']]\n",
    "y_multi = df['monthly_inc']\n",
    "\n",
    "lin_reg_multi = LinearRegression()\n",
    "lin_reg_multi.fit(X_multi, y_multi)\n",
    "\n",
    "print(\"Coeficientes:\", lin_reg_multi.coef_)\n",
    "print(\"Intercepto:\", lin_reg_multi.intercept_)\n",
    "print(\"Score (R^2):\", lin_reg_multi.score(X_multi, y_multi))\n"
   ]
  },
  {
   "cell_type": "code",
   "execution_count": null,
   "id": "6db0a5dcdde70fff",
   "metadata": {},
   "outputs": [],
   "source": [
    "# K medoids\n",
    "#kmedoids = KMedoids(n_clusters=2, random_state=0)\n",
    "#kmedoids.fit(X_scaled)\n",
    "\n",
    "#g print(\"K-Medoids silhouette score:\", silhouette_score(X_scaled, kmedoids.labels_))\n"
   ]
  }
 ],
 "metadata": {
  "kernelspec": {
   "display_name": "Python 3",
   "language": "python",
   "name": "python3"
  },
  "language_info": {
   "codemirror_mode": {
    "name": "ipython",
    "version": 2
   },
   "file_extension": ".py",
   "mimetype": "text/x-python",
   "name": "python",
   "nbconvert_exporter": "python",
   "pygments_lexer": "ipython2",
   "version": "2.7.6"
  }
 },
 "nbformat": 4,
 "nbformat_minor": 5
}
